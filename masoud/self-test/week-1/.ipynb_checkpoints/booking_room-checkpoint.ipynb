{
 "cells": [
  {
   "cell_type": "code",
   "execution_count": 1,
   "id": "7a33fa03",
   "metadata": {},
   "outputs": [
    {
     "name": "stdout",
     "output_type": "stream",
     "text": [
      "100\n",
      "5\n"
     ]
    },
    {
     "ename": "TypeError",
     "evalue": "'str' object cannot be interpreted as an integer",
     "output_type": "error",
     "traceback": [
      "\u001b[0;31m---------------------------------------------------------------------------\u001b[0m",
      "\u001b[0;31mTypeError\u001b[0m                                 Traceback (most recent call last)",
      "\u001b[0;32m<ipython-input-1-7b1b947c6ac6>\u001b[0m in \u001b[0;36m<module>\u001b[0;34m\u001b[0m\n\u001b[1;32m     21\u001b[0m \u001b[0;34m\u001b[0m\u001b[0m\n\u001b[1;32m     22\u001b[0m \u001b[0;31m#iterating till the range\u001b[0m\u001b[0;34m\u001b[0m\u001b[0;34m\u001b[0m\u001b[0;34m\u001b[0m\u001b[0m\n\u001b[0;32m---> 23\u001b[0;31m \u001b[0;32mfor\u001b[0m \u001b[0mi\u001b[0m \u001b[0;32min\u001b[0m \u001b[0mrange\u001b[0m \u001b[0;34m(\u001b[0m\u001b[0mn\u001b[0m\u001b[0;34m)\u001b[0m\u001b[0;34m:\u001b[0m\u001b[0;34m\u001b[0m\u001b[0;34m\u001b[0m\u001b[0m\n\u001b[0m\u001b[1;32m     24\u001b[0m         \u001b[0mele\u001b[0m \u001b[0;34m=\u001b[0m \u001b[0mint\u001b[0m\u001b[0;34m(\u001b[0m\u001b[0minput\u001b[0m\u001b[0;34m(\u001b[0m\u001b[0;34m)\u001b[0m\u001b[0;34m)\u001b[0m\u001b[0;34m\u001b[0m\u001b[0;34m\u001b[0m\u001b[0m\n\u001b[1;32m     25\u001b[0m \u001b[0;34m\u001b[0m\u001b[0m\n",
      "\u001b[0;31mTypeError\u001b[0m: 'str' object cannot be interpreted as an integer"
     ]
    }
   ],
   "source": [
    "#I have be given a list of already booked rooms\n",
    "#the hotel has r rooms\n",
    "\n",
    "#########################\n",
    "#sdo code\n",
    "\n",
    "#getting two input numbers\n",
    "#getting a list of n numbers\n",
    "#if n == r\n",
    "#print too late\n",
    "#else if r > n\n",
    "# print (a random number between 1 and r (included) excluding the list of n numbers inputed)\n",
    "#####################\n",
    "\n",
    "r = int(input()) #getting a value for r\n",
    "\n",
    "n = int(input()) #getting a value for n\n",
    "\n",
    "lst = [] #creating an empty list\n",
    "\n",
    "\n",
    "#iterating till the range\n",
    "for i in range (n):\n",
    "\tele = int(input())\n",
    "\n",
    "\tlst.append(ele) #adding the element\n",
    "\n",
    "from random import choice\n",
    "\n",
    "if (r == n):\n",
    "\tprint(\"too late\")\n",
    "\n",
    "elif (r > n):\n",
    "\tprint (choice([i for i in range(1 , r+1) if i not in lst]))"
   ]
  },
  {
   "cell_type": "code",
   "execution_count": null,
   "id": "07d41c5d",
   "metadata": {},
   "outputs": [],
   "source": []
  }
 ],
 "metadata": {
  "kernelspec": {
   "display_name": "csc591",
   "language": "python",
   "name": "csc591"
  },
  "language_info": {
   "codemirror_mode": {
    "name": "ipython",
    "version": 3
   },
   "file_extension": ".py",
   "mimetype": "text/x-python",
   "name": "python",
   "nbconvert_exporter": "python",
   "pygments_lexer": "ipython3",
   "version": "3.7.9"
  }
 },
 "nbformat": 4,
 "nbformat_minor": 5
}
