{
 "cells": [
  {
   "cell_type": "markdown",
   "id": "30591cf9",
   "metadata": {},
   "source": [
    "## Sudo code\n",
    "* input a number between 1 and 100 (including) as the length of the log\n",
    "\n",
    "* input a list of n strings in the form of \"entry name\" or \"exit name\" (name is up to 20 upper /lower characters)\n",
    "\n",
    "* for every element of list if it starts with entry print \"name entered\", elif it starts with exit print \"name exited\"\n",
    "\n",
    "if it already entered and enter again add \"(ANOMALY)\"\n",
    "making a list of all names alreay entered\n",
    "if it has not entered before and exits, add \"(ANOMALY)\"\n"
   ]
  },
  {
   "cell_type": "code",
   "execution_count": 10,
   "id": "258b2641",
   "metadata": {},
   "outputs": [
    {
     "name": "stdout",
     "output_type": "stream",
     "text": [
      "8\n",
      "entry Abbey\n",
      "entry Abbey\n",
      "exit Abbey\n",
      "entry Tyrone\n",
      "exit Mason\n",
      "entry Demetra\n",
      "exit Latonya\n",
      "entry Abbey\n",
      "Abbey entered\n",
      "Abbey entered (ANOMALY)\n",
      "Abbey exited\n",
      "Tyrone entered\n",
      "Mason exited (ANOMALY)\n",
      "Demetra entered\n",
      "Latonya exited (ANOMALY)\n",
      "Abbey entered\n"
     ]
    }
   ],
   "source": [
    "n = int(input()) #input length of the log\n",
    "\n",
    "\n",
    "lst = [] #making an empty list\n",
    "entry_names_lst = []\n",
    "\n",
    "for i in range (n): #inputing elements of list\n",
    "    \n",
    "    ele = input()\n",
    "    lst.append(ele)\n",
    "    \n",
    "    \n",
    "for word in lst:\n",
    "    if (word.startswith(\"entry\")):\n",
    "        if (word.split(' ')[1] in entry_names_lst):\n",
    "            print(word.split(' ')[1] + \" entered\" + \" (ANOMALY)\")\n",
    "        else:\n",
    "            entry_names_lst.append(word.split(' ')[1])\n",
    "            print(word.split(' ')[1] + \" entered\")# Get 2nd word in String\n",
    "        \n",
    "    elif (word.startswith(\"exit\")):\n",
    "        if (word.split(' ')[1] not in entry_names_lst):\n",
    "            print(word.split(' ')[1] + \" exited\" + \" (ANOMALY)\")\n",
    "        else:\n",
    "            entry_names_lst.remove(word.split(' ')[1])#I need to removed the name from the entry_names_lst\n",
    "            print(word.split(' ')[1] + \" exited\")# Get 2nd word in String\n"
   ]
  },
  {
   "cell_type": "code",
   "execution_count": null,
   "id": "e9277295",
   "metadata": {},
   "outputs": [],
   "source": []
  }
 ],
 "metadata": {
  "kernelspec": {
   "display_name": "csc591",
   "language": "python",
   "name": "csc591"
  },
  "language_info": {
   "codemirror_mode": {
    "name": "ipython",
    "version": 3
   },
   "file_extension": ".py",
   "mimetype": "text/x-python",
   "name": "python",
   "nbconvert_exporter": "python",
   "pygments_lexer": "ipython3",
   "version": "3.7.9"
  }
 },
 "nbformat": 4,
 "nbformat_minor": 5
}
