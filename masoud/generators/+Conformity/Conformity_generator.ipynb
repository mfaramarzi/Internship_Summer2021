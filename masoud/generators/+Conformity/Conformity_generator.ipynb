{
 "cells": [
  {
   "cell_type": "code",
   "execution_count": 60,
   "id": "7337b9a2",
   "metadata": {},
   "outputs": [],
   "source": [
    "import json\n",
    "import random"
   ]
  },
  {
   "cell_type": "code",
   "execution_count": 61,
   "id": "fb131e47",
   "metadata": {},
   "outputs": [],
   "source": [
    "def generateNumbers():#generating input numbers\n",
    "\n",
    "    random.seed(500)\n",
    "\n",
    "    course_lst = []\n",
    "\n",
    "    num_stu = [random.randint(1, 10000) for _ in range (50)]\n",
    "    \n",
    "#     code below also could be written in a for loop\n",
    "    for i in range(50):\n",
    "        \n",
    "        course_lst.append([[random.randint(100, 499) for k in range (5)] for j in range (num_stu[i])])\n",
    "        \n",
    "        \n",
    "#     course_lst.append([[random.randint(100, 499) for k in range (5)] for j in range (num_stu[i])] for i in range (50)) #nested list comprehension\n",
    "    \n",
    "    return num_stu, course_lst"
   ]
  },
  {
   "cell_type": "code",
   "execution_count": 62,
   "id": "43b163eb",
   "metadata": {},
   "outputs": [],
   "source": [
    "def generateCase(case, num_stu, course_lst): # generating a dic containing case, input, and result strings \n",
    "\n",
    "#course_lst is 3-d list and will be 2-d for each of 50 cases\n",
    "\n",
    "    comb_cours_lst = [] #list of unique combinations of course\n",
    "\n",
    "    new_case = {}\n",
    "\n",
    "    new_case[\"case\"] = case\n",
    "\n",
    "    new_case[\"input\"] = str(num_stu) + \" \" + \" \".join([str(i) for i in course_lst]) # \"i\" is list of int initially. \n",
    "    \n",
    "\n",
    "    for i in course_lst:#for the only 3-d list in the 4-d list \n",
    "        \n",
    "        if set(i) not in comb_cours_lst: #each i is a 1-d list which will be converted to a set\n",
    "            \n",
    "            comb_cours_lst.append(set(i)) # it will result a list of sets\n",
    "            \n",
    "    uniq_comb = len(comb_cours_lst)  \n",
    "    \n",
    "    new_case[\"output\"] = str(uniq_comb) #converting result from int to str\n",
    "\n",
    "    return new_case"
   ]
  },
  {
   "cell_type": "code",
   "execution_count": 63,
   "id": "7e281382",
   "metadata": {},
   "outputs": [],
   "source": [
    "def generateTestCases(): #generating 50 test cases\n",
    "\n",
    "    num_stu, course_lst = generateNumbers()\n",
    "    \n",
    "#     print(num_stu)\n",
    "#     for i in range(50):\n",
    "#         print(course_lst[i])#why is it 4-d?!!\n",
    "\n",
    "    test_cases = {}\n",
    "    \n",
    "    tests = []\n",
    "#     for i in range(len(num_stu)): #length of \"num_stu\" list\n",
    "        \n",
    "#         print(i)\n",
    "    for i in range(len(num_stu)): #length of \"num_stu\" list\n",
    "        \n",
    "        tests.append(generateCase(i + 1, num_stu[i], course_lst[i])) \n",
    "        #course_lst IS A 3-D LIST.Indexing to this list is indexing to a 2-d list\n",
    "\n",
    "    test_cases[\"tests\"] = tests\n",
    "\n",
    "    return test_cases"
   ]
  },
  {
   "cell_type": "code",
   "execution_count": 64,
   "id": "23885417",
   "metadata": {},
   "outputs": [],
   "source": [
    "test_cases = generateTestCases() \n",
    "\n",
    "with open('Conformity.json', 'w') as json_file:\n",
    "    \n",
    "    json.dump(test_cases, json_file, indent = 4, sort_keys = True)"
   ]
  },
  {
   "cell_type": "code",
   "execution_count": null,
   "id": "a712bd70",
   "metadata": {},
   "outputs": [],
   "source": []
  },
  {
   "cell_type": "code",
   "execution_count": null,
   "id": "4b9d6800",
   "metadata": {},
   "outputs": [],
   "source": []
  }
 ],
 "metadata": {
  "kernelspec": {
   "display_name": "csc591",
   "language": "python",
   "name": "csc591"
  },
  "language_info": {
   "codemirror_mode": {
    "name": "ipython",
    "version": 3
   },
   "file_extension": ".py",
   "mimetype": "text/x-python",
   "name": "python",
   "nbconvert_exporter": "python",
   "pygments_lexer": "ipython3",
   "version": "3.8.10"
  }
 },
 "nbformat": 4,
 "nbformat_minor": 5
}
