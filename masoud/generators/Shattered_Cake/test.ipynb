{
 "cells": [
  {
   "cell_type": "markdown",
   "id": "a29fa2a7",
   "metadata": {},
   "source": [
    "a 2-d list of 50 lists containing 2 numbers between 1 and 10000"
   ]
  },
  {
   "cell_type": "code",
   "execution_count": 9,
   "id": "5a031826",
   "metadata": {},
   "outputs": [],
   "source": [
    "import random"
   ]
  },
  {
   "cell_type": "code",
   "execution_count": null,
   "id": "4b9b16e5",
   "metadata": {},
   "outputs": [],
   "source": [
    "x = random.randint(1, 10000),y = random.randint(1, 10000)"
   ]
  },
  {
   "cell_type": "code",
   "execution_count": 10,
   "id": "a9f0a8df",
   "metadata": {},
   "outputs": [],
   "source": [
    "w_l_pieces = [[\"%d %d\" %(random.randint(1, 10000),random.randint(1, 10000))] for _ in range (50)]"
   ]
  },
  {
   "cell_type": "code",
   "execution_count": 11,
   "id": "4b6dafb3",
   "metadata": {},
   "outputs": [
    {
     "data": {
      "text/plain": [
       "[['3777 8537'],\n",
       " ['2764 1404'],\n",
       " ['3902 1358'],\n",
       " ['9080 5145'],\n",
       " ['5657 985'],\n",
       " ['6816 6944'],\n",
       " ['7279 1920'],\n",
       " ['6953 110'],\n",
       " ['4333 4391'],\n",
       " ['3393 9975'],\n",
       " ['145 8067'],\n",
       " ['4914 507'],\n",
       " ['2526 5397'],\n",
       " ['7033 4925'],\n",
       " ['6439 7222'],\n",
       " ['4636 1085'],\n",
       " ['6322 6347'],\n",
       " ['781 6678'],\n",
       " ['6689 1772'],\n",
       " ['9462 1107'],\n",
       " ['3488 8039'],\n",
       " ['6713 3790'],\n",
       " ['5354 9631'],\n",
       " ['849 990'],\n",
       " ['4099 9468'],\n",
       " ['9167 5355'],\n",
       " ['9522 3053'],\n",
       " ['8299 1513'],\n",
       " ['4189 7786'],\n",
       " ['3687 6728'],\n",
       " ['7393 2867'],\n",
       " ['3183 2753'],\n",
       " ['9594 9672'],\n",
       " ['4697 3006'],\n",
       " ['5464 8125'],\n",
       " ['683 3391'],\n",
       " ['6944 7600'],\n",
       " ['9289 9271'],\n",
       " ['3372 3168'],\n",
       " ['4814 752'],\n",
       " ['1672 7767'],\n",
       " ['1918 7170'],\n",
       " ['2352 1737'],\n",
       " ['9672 4967'],\n",
       " ['6839 7318'],\n",
       " ['4476 3191'],\n",
       " ['7331 8036'],\n",
       " ['2958 1415'],\n",
       " ['3965 2663'],\n",
       " ['8715 7594']]"
      ]
     },
     "execution_count": 11,
     "metadata": {},
     "output_type": "execute_result"
    }
   ],
   "source": [
    "w_l_pieces"
   ]
  },
  {
   "cell_type": "code",
   "execution_count": 14,
   "id": "7bc0933c",
   "metadata": {},
   "outputs": [
    {
     "data": {
      "text/plain": [
       "'3777'"
      ]
     },
     "execution_count": 14,
     "metadata": {},
     "output_type": "execute_result"
    }
   ],
   "source": [
    "w_l_pieces[0][0].split()[0]"
   ]
  },
  {
   "cell_type": "code",
   "execution_count": null,
   "id": "3e8ef3b9",
   "metadata": {},
   "outputs": [],
   "source": []
  },
  {
   "cell_type": "code",
   "execution_count": 6,
   "id": "ee2cc4e1",
   "metadata": {},
   "outputs": [
    {
     "data": {
      "text/plain": [
       "'5 7'"
      ]
     },
     "execution_count": 6,
     "metadata": {},
     "output_type": "execute_result"
    }
   ],
   "source": [
    "\"%d %d\" %(5 , 7)"
   ]
  },
  {
   "cell_type": "code",
   "execution_count": 12,
   "id": "8dae8f51",
   "metadata": {},
   "outputs": [
    {
     "ename": "NameError",
     "evalue": "name 'num_pieces' is not defined",
     "output_type": "error",
     "traceback": [
      "\u001b[1;31m---------------------------------------------------------------------------\u001b[0m",
      "\u001b[1;31mNameError\u001b[0m                                 Traceback (most recent call last)",
      "\u001b[1;32m<ipython-input-12-b1dec15a6385>\u001b[0m in \u001b[0;36m<module>\u001b[1;34m\u001b[0m\n\u001b[1;32m----> 1\u001b[1;33m w_l_pieces = [[[\"%d %d\" %(random.randint(1, 10000),random.randint(1, 10000))]\n\u001b[0m\u001b[0;32m      2\u001b[0m                   for i in range (num_pieces)] for _ in range (50)]\n",
      "\u001b[1;32m<ipython-input-12-b1dec15a6385>\u001b[0m in \u001b[0;36m<listcomp>\u001b[1;34m(.0)\u001b[0m\n\u001b[0;32m      1\u001b[0m w_l_pieces = [[[\"%d %d\" %(random.randint(1, 10000),random.randint(1, 10000))]\n\u001b[1;32m----> 2\u001b[1;33m                   for i in range (num_pieces)] for _ in range (50)]\n\u001b[0m",
      "\u001b[1;31mNameError\u001b[0m: name 'num_pieces' is not defined"
     ]
    }
   ],
   "source": [
    "w_l_pieces = [[[\"%d %d\" %(random.randint(1, 10000),random.randint(1, 10000))]\n",
    "                  for i in range (num_pieces)] for _ in range (50)]"
   ]
  },
  {
   "cell_type": "code",
   "execution_count": 15,
   "id": "4867c72c",
   "metadata": {},
   "outputs": [],
   "source": [
    "str_test = \"5 7\""
   ]
  },
  {
   "cell_type": "code",
   "execution_count": 22,
   "id": "2db02d09",
   "metadata": {},
   "outputs": [
    {
     "data": {
      "text/plain": [
       "'7'"
      ]
     },
     "execution_count": 22,
     "metadata": {},
     "output_type": "execute_result"
    }
   ],
   "source": [
    "str_test.split()[1]"
   ]
  },
  {
   "cell_type": "code",
   "execution_count": null,
   "id": "d0586068",
   "metadata": {},
   "outputs": [],
   "source": []
  }
 ],
 "metadata": {
  "kernelspec": {
   "display_name": "csc591",
   "language": "python",
   "name": "csc591"
  },
  "language_info": {
   "codemirror_mode": {
    "name": "ipython",
    "version": 3
   },
   "file_extension": ".py",
   "mimetype": "text/x-python",
   "name": "python",
   "nbconvert_exporter": "python",
   "pygments_lexer": "ipython3",
   "version": "3.8.10"
  }
 },
 "nbformat": 4,
 "nbformat_minor": 5
}
