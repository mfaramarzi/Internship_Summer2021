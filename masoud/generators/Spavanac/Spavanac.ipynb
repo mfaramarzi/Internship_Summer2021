{
 "cells": [
  {
   "cell_type": "code",
   "execution_count": 7,
   "id": "ff6420dd",
   "metadata": {},
   "outputs": [],
   "source": [
    "import json\n",
    "import random"
   ]
  },
  {
   "cell_type": "code",
   "execution_count": 3,
   "id": "264224b2",
   "metadata": {},
   "outputs": [],
   "source": [
    "def generateNumbers():#generating input numbers\n",
    "\n",
    "    random.seed(500)\n",
    "\n",
    "    hours = [random.randint(0, 23) for _ in range (50)]\n",
    "    minutes = [random.randint(0, 59) for _ in range (50)]\n",
    "\n",
    "    return hours, minutes"
   ]
  },
  {
   "cell_type": "code",
   "execution_count": 15,
   "id": "fd58c1b9",
   "metadata": {},
   "outputs": [],
   "source": [
    "def generateCase(case, hours, minutes):# generating a dic containing case, input, and result strings \n",
    "\n",
    "    new_case = {}\n",
    "\n",
    "    new_case[\"case\"] = case\n",
    "\n",
    "    new_case[\"input\"] = \"%d %d\" % (hours, minutes)\n",
    "\n",
    "    if (hours == 0 and minutes < 45):\n",
    "        \n",
    "        hours = 23\n",
    "        minutes = 60 + minutes - 45\n",
    "        \n",
    "    elif(hours == 0 and minutes >= 45):\n",
    "        \n",
    "        hours = hours\n",
    "        \n",
    "        minutes = minutes - 45\n",
    "        \n",
    "    elif(hours != 0 and minutes < 45):\n",
    "        \n",
    "        hours = hours -1\n",
    "        \n",
    "        minutes = 60 + minutes - 45\n",
    "        \n",
    "    elif(hours != 0 and minutes > 45):\n",
    "        \n",
    "        hours = hours\n",
    "        \n",
    "        minutes = minutes - 45\n",
    "        \n",
    "    new_case[\"output\"] = \"%d %d\" % (hours , minutes)\n",
    "\n",
    "    return new_case"
   ]
  },
  {
   "cell_type": "code",
   "execution_count": 16,
   "id": "7315b7e5",
   "metadata": {},
   "outputs": [],
   "source": [
    "def generateTestCases(): #generating 50 test cases\n",
    "\n",
    "    hours , minutes = generateNumbers()\n",
    "\n",
    "    test_cases = {}\n",
    "    \n",
    "    tests = []\n",
    "    \n",
    "    for i in range(len(hours)):\n",
    "        \n",
    "        tests.append(generateCase(i + 1, hours[i], minutes[i]))\n",
    "\n",
    "    test_cases[\"tests\"] = tests\n",
    "\n",
    "    return test_cases"
   ]
  },
  {
   "cell_type": "code",
   "execution_count": 17,
   "id": "ed1ec161",
   "metadata": {},
   "outputs": [],
   "source": [
    "test_cases = generateTestCases() "
   ]
  },
  {
   "cell_type": "code",
   "execution_count": 18,
   "id": "6d813487",
   "metadata": {},
   "outputs": [],
   "source": [
    "with open('Spavanac.json', 'w') as json_file:\n",
    "    \n",
    "    json.dump(test_cases, json_file, indent = 4, sort_keys = True)"
   ]
  },
  {
   "cell_type": "code",
   "execution_count": null,
   "id": "aba8d2d4",
   "metadata": {},
   "outputs": [],
   "source": []
  }
 ],
 "metadata": {
  "kernelspec": {
   "display_name": "csc591",
   "language": "python",
   "name": "csc591"
  },
  "language_info": {
   "codemirror_mode": {
    "name": "ipython",
    "version": 3
   },
   "file_extension": ".py",
   "mimetype": "text/x-python",
   "name": "python",
   "nbconvert_exporter": "python",
   "pygments_lexer": "ipython3",
   "version": "3.8.10"
  }
 },
 "nbformat": 4,
 "nbformat_minor": 5
}
