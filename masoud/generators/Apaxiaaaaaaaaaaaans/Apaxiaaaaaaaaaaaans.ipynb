{
 "cells": [
  {
   "cell_type": "code",
   "execution_count": 1,
   "id": "3c6ec3b0",
   "metadata": {},
   "outputs": [],
   "source": [
    "import json\n",
    "import random\n",
    "import names"
   ]
  },
  {
   "cell_type": "code",
   "execution_count": 2,
   "id": "a425ee26",
   "metadata": {},
   "outputs": [],
   "source": [
    "def generateNumbers():#generating input numbers\n",
    "\n",
    "    random.seed(500)\n",
    "\n",
    "    name = [names.get_first_name() for _ in range (50)]\n",
    "\n",
    "    return name"
   ]
  },
  {
   "cell_type": "code",
   "execution_count": 3,
   "id": "3bd64210",
   "metadata": {},
   "outputs": [],
   "source": [
    "def generateCase(case, name):# generating a dic containing case, input, and result strings \n",
    "\n",
    "    new_case = {}\n",
    "\n",
    "    new_case[\"case\"] = case\n",
    "    \n",
    "    new_case[\"input\"] = \"%s\" %(name)\n",
    "    \n",
    "#     main code\n",
    "    \n",
    "    i = 0\n",
    "    while (len(name) - 1 > i):\n",
    "\n",
    "            if (name[i] == name[i+1]):\n",
    "\n",
    "                name = name.replace(name[i], \"\" , 1)\n",
    "                i-=1\n",
    "\n",
    "            i+=1\n",
    "    \n",
    "    new_case[\"output\"] = \"%s\" % (name)\n",
    "\n",
    "    return new_case"
   ]
  },
  {
   "cell_type": "code",
   "execution_count": 4,
   "id": "fbf487f9",
   "metadata": {},
   "outputs": [],
   "source": [
    "def generateTestCases(): #generating 50 test cases\n",
    "\n",
    "    name = generateNumbers()\n",
    "\n",
    "    test_cases = {}\n",
    "    \n",
    "    tests = []\n",
    "    \n",
    "    for i in range(len(name)):\n",
    "        \n",
    "        tests.append(generateCase(i + 1, name[i]))\n",
    "\n",
    "    test_cases[\"tests\"] = tests\n",
    "\n",
    "    return test_cases"
   ]
  },
  {
   "cell_type": "code",
   "execution_count": 5,
   "id": "35bd6c1b",
   "metadata": {},
   "outputs": [],
   "source": [
    "test_cases = generateTestCases() "
   ]
  },
  {
   "cell_type": "code",
   "execution_count": 6,
   "id": "325ac83a",
   "metadata": {},
   "outputs": [],
   "source": [
    "with open('Apaxiaaaaaaaaaaaans.json', 'w') as json_file:\n",
    "    json.dump(test_cases, json_file, indent = 4, sort_keys = True)"
   ]
  },
  {
   "cell_type": "code",
   "execution_count": null,
   "id": "1251b5a3",
   "metadata": {},
   "outputs": [],
   "source": []
  }
 ],
 "metadata": {
  "kernelspec": {
   "display_name": "csc591",
   "language": "python",
   "name": "csc591"
  },
  "language_info": {
   "codemirror_mode": {
    "name": "ipython",
    "version": 3
   },
   "file_extension": ".py",
   "mimetype": "text/x-python",
   "name": "python",
   "nbconvert_exporter": "python",
   "pygments_lexer": "ipython3",
   "version": "3.8.10"
  }
 },
 "nbformat": 4,
 "nbformat_minor": 5
}
