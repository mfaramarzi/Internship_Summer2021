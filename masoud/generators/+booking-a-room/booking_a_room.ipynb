{
 "cells": [
  {
   "cell_type": "code",
   "execution_count": 5,
   "id": "f9052cf9",
   "metadata": {},
   "outputs": [],
   "source": [
    "import json\n",
    "import random"
   ]
  },
  {
   "cell_type": "code",
   "execution_count": 6,
   "id": "25626e42",
   "metadata": {},
   "outputs": [],
   "source": [
    "def generateNumbers():\n",
    "\n",
    "    random.seed(500)\n",
    "    first_numbers = []\n",
    "    second_numbers = []\n",
    "    \n",
    "#for each of 50 samples, I will append room numbers (\"second_nubers\" times) to a list. \n",
    "#Therefor it will be a liust of 50 lists with different dimensions (1-100)\n",
    "    lst_occupied = [[]] \n",
    "    \n",
    "    \n",
    "# for each of 50 samples, generator takes two numbers and a list of numbers\n",
    "    for i in range(50):\n",
    "        first_numbers.append(random.randint(0, 101)) #first number\n",
    "        second_numbers.append(random.randint(0, first_numbers[i]+1)) #second number\n",
    "        \n",
    "        for j in range (second_numbers[i]): #list of numbers (\"second number\"  times)\n",
    "            ele = random.randint(0, first_numbers[i]+1)\n",
    "\n",
    "            lst_occupied[i].append(ele) #adding the element #it will be a list \n",
    "\n",
    "#             new_case[\"input\"] = new_case[\"input\"] + \" \" + str(ele)\n",
    "                              \n",
    "    return first_numbers,second_numbers,lst_occupied # list of 50 num # list of 50 num # list of 50 lists with different lengths"
   ]
  },
  {
   "cell_type": "code",
   "execution_count": 7,
   "id": "b5f059dc",
   "metadata": {},
   "outputs": [],
   "source": [
    "def generateCase(case, first_number, second_number, lst_occupied):\n",
    "\n",
    "    new_case = {} # a dictionary used for json file later\n",
    "\n",
    "    new_case[\"case\"] = case #we will have a for loop iterating dfor e.g. 50 times later\n",
    "\n",
    "  # my code\n",
    "    str_occupied = ' '.join(lst_occupied)\n",
    "    \n",
    "    new_case[\"input\"] = \"%d %d\" % (first_number, second_number) + str_occupied #adding elements to this value string\n",
    "\n",
    "    from random import choice\n",
    "\n",
    "    if (first_number == second_number):\n",
    "        result = \"too late\"\n",
    "\n",
    "    elif (first_number > second_number):\n",
    "        result = choice([i for i in range(1 , first_number+1) if i not in lst_occupied])\n",
    "\n",
    "    new_case[\"output\"] =  result\n",
    "\n",
    "    return new_case # \"new_case\" is a dictionary including case number, input and output as keys "
   ]
  },
  {
   "cell_type": "code",
   "execution_count": 8,
   "id": "58a4a838",
   "metadata": {},
   "outputs": [],
   "source": [
    "def generateTestCases():\n",
    "\n",
    "  first_numbers, second_numbers, lst_occupied = generateNumbers()\n",
    "\n",
    "  test_cases = {}\n",
    "  tests = []\n",
    "  for i in range(len(first_numbers)):\n",
    "    tests.append(generateCase(i + 1, first_numbers[i], second_numbers[i]), lst_occupied[i]) \n",
    "    #a list named \"tests\" containing 50 (len(first_numbers)) case, first number and second number\n",
    "  \n",
    "  test_cases[\"tests\"] = tests # final dic with one key and a list as its value for the key which will be passed to the json file\n",
    "\n",
    "  return test_cases"
   ]
  },
  {
   "cell_type": "code",
   "execution_count": 9,
   "id": "68d075bc",
   "metadata": {},
   "outputs": [
    {
     "ename": "IndexError",
     "evalue": "list index out of range",
     "output_type": "error",
     "traceback": [
      "\u001b[0;31m---------------------------------------------------------------------------\u001b[0m",
      "\u001b[0;31mIndexError\u001b[0m                                Traceback (most recent call last)",
      "\u001b[0;32m<ipython-input-9-2ca5ae605326>\u001b[0m in \u001b[0;36m<module>\u001b[0;34m\u001b[0m\n\u001b[0;32m----> 1\u001b[0;31m \u001b[0mtest_cases\u001b[0m \u001b[0;34m=\u001b[0m \u001b[0mgenerateTestCases\u001b[0m\u001b[0;34m(\u001b[0m\u001b[0;34m)\u001b[0m\u001b[0;34m\u001b[0m\u001b[0;34m\u001b[0m\u001b[0m\n\u001b[0m\u001b[1;32m      2\u001b[0m \u001b[0;32mwith\u001b[0m \u001b[0mopen\u001b[0m\u001b[0;34m(\u001b[0m\u001b[0;34m'addition.json'\u001b[0m\u001b[0;34m,\u001b[0m \u001b[0;34m'w'\u001b[0m\u001b[0;34m)\u001b[0m \u001b[0;32mas\u001b[0m \u001b[0mjson_file\u001b[0m\u001b[0;34m:\u001b[0m\u001b[0;34m\u001b[0m\u001b[0;34m\u001b[0m\u001b[0m\n\u001b[1;32m      3\u001b[0m   \u001b[0mjson\u001b[0m\u001b[0;34m.\u001b[0m\u001b[0mdump\u001b[0m\u001b[0;34m(\u001b[0m\u001b[0mtest_cases\u001b[0m\u001b[0;34m,\u001b[0m \u001b[0mjson_file\u001b[0m\u001b[0;34m,\u001b[0m \u001b[0mindent\u001b[0m \u001b[0;34m=\u001b[0m \u001b[0;36m4\u001b[0m\u001b[0;34m,\u001b[0m \u001b[0msort_keys\u001b[0m \u001b[0;34m=\u001b[0m \u001b[0;32mTrue\u001b[0m\u001b[0;34m)\u001b[0m\u001b[0;34m\u001b[0m\u001b[0;34m\u001b[0m\u001b[0m\n",
      "\u001b[0;32m<ipython-input-8-0bf44a1e0241>\u001b[0m in \u001b[0;36mgenerateTestCases\u001b[0;34m()\u001b[0m\n\u001b[1;32m      1\u001b[0m \u001b[0;32mdef\u001b[0m \u001b[0mgenerateTestCases\u001b[0m\u001b[0;34m(\u001b[0m\u001b[0;34m)\u001b[0m\u001b[0;34m:\u001b[0m\u001b[0;34m\u001b[0m\u001b[0;34m\u001b[0m\u001b[0m\n\u001b[1;32m      2\u001b[0m \u001b[0;34m\u001b[0m\u001b[0m\n\u001b[0;32m----> 3\u001b[0;31m   \u001b[0mfirst_numbers\u001b[0m\u001b[0;34m,\u001b[0m \u001b[0msecond_numbers\u001b[0m\u001b[0;34m,\u001b[0m \u001b[0mlst_occupied\u001b[0m \u001b[0;34m=\u001b[0m \u001b[0mgenerateNumbers\u001b[0m\u001b[0;34m(\u001b[0m\u001b[0;34m)\u001b[0m\u001b[0;34m\u001b[0m\u001b[0;34m\u001b[0m\u001b[0m\n\u001b[0m\u001b[1;32m      4\u001b[0m \u001b[0;34m\u001b[0m\u001b[0m\n\u001b[1;32m      5\u001b[0m   \u001b[0mtest_cases\u001b[0m \u001b[0;34m=\u001b[0m \u001b[0;34m{\u001b[0m\u001b[0;34m}\u001b[0m\u001b[0;34m\u001b[0m\u001b[0;34m\u001b[0m\u001b[0m\n",
      "\u001b[0;32m<ipython-input-6-c55ff08c47ed>\u001b[0m in \u001b[0;36mgenerateNumbers\u001b[0;34m()\u001b[0m\n\u001b[1;32m     18\u001b[0m             \u001b[0mele\u001b[0m \u001b[0;34m=\u001b[0m \u001b[0mrandom\u001b[0m\u001b[0;34m.\u001b[0m\u001b[0mrandint\u001b[0m\u001b[0;34m(\u001b[0m\u001b[0;36m0\u001b[0m\u001b[0;34m,\u001b[0m \u001b[0mfirst_numbers\u001b[0m\u001b[0;34m[\u001b[0m\u001b[0mi\u001b[0m\u001b[0;34m]\u001b[0m\u001b[0;34m+\u001b[0m\u001b[0;36m1\u001b[0m\u001b[0;34m)\u001b[0m\u001b[0;34m\u001b[0m\u001b[0;34m\u001b[0m\u001b[0m\n\u001b[1;32m     19\u001b[0m \u001b[0;34m\u001b[0m\u001b[0m\n\u001b[0;32m---> 20\u001b[0;31m             \u001b[0mlst_occupied\u001b[0m\u001b[0;34m[\u001b[0m\u001b[0mi\u001b[0m\u001b[0;34m]\u001b[0m\u001b[0;34m.\u001b[0m\u001b[0mappend\u001b[0m\u001b[0;34m(\u001b[0m\u001b[0mele\u001b[0m\u001b[0;34m)\u001b[0m \u001b[0;31m#adding the element #it will be a list\u001b[0m\u001b[0;34m\u001b[0m\u001b[0;34m\u001b[0m\u001b[0m\n\u001b[0m\u001b[1;32m     21\u001b[0m \u001b[0;34m\u001b[0m\u001b[0m\n\u001b[1;32m     22\u001b[0m \u001b[0;31m#             new_case[\"input\"] = new_case[\"input\"] + \" \" + str(ele)\u001b[0m\u001b[0;34m\u001b[0m\u001b[0;34m\u001b[0m\u001b[0;34m\u001b[0m\u001b[0m\n",
      "\u001b[0;31mIndexError\u001b[0m: list index out of range"
     ]
    }
   ],
   "source": [
    "test_cases = generateTestCases()\n",
    "with open('addition.json', 'w') as json_file: \n",
    "  json.dump(test_cases, json_file, indent = 4, sort_keys = True)"
   ]
  },
  {
   "cell_type": "code",
   "execution_count": null,
   "id": "6bcee0b2",
   "metadata": {},
   "outputs": [],
   "source": []
  },
  {
   "cell_type": "code",
   "execution_count": null,
   "id": "0bdb219f",
   "metadata": {},
   "outputs": [],
   "source": []
  }
 ],
 "metadata": {
  "kernelspec": {
   "display_name": "csc591",
   "language": "python",
   "name": "csc591"
  },
  "language_info": {
   "codemirror_mode": {
    "name": "ipython",
    "version": 3
   },
   "file_extension": ".py",
   "mimetype": "text/x-python",
   "name": "python",
   "nbconvert_exporter": "python",
   "pygments_lexer": "ipython3",
   "version": "3.8.10"
  }
 },
 "nbformat": 4,
 "nbformat_minor": 5
}
