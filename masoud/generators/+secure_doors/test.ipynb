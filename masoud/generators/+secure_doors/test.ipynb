{
 "cells": [
  {
   "cell_type": "code",
   "execution_count": 22,
   "id": "481791b0",
   "metadata": {},
   "outputs": [],
   "source": [
    "from random import choice\n",
    "import names"
   ]
  },
  {
   "cell_type": "code",
   "execution_count": 23,
   "id": "cd28b69d",
   "metadata": {},
   "outputs": [
    {
     "name": "stdout",
     "output_type": "stream",
     "text": [
      " exit\n"
     ]
    }
   ],
   "source": [
    "print(str(choice([\" entry\" , \" exit\"])))"
   ]
  },
  {
   "cell_type": "code",
   "execution_count": 30,
   "id": "d1a6b469",
   "metadata": {},
   "outputs": [
    {
     "name": "stdout",
     "output_type": "stream",
     "text": [
      "Katherine\n"
     ]
    }
   ],
   "source": [
    "print(names.get_first_name())"
   ]
  },
  {
   "cell_type": "code",
   "execution_count": 32,
   "id": "acfa9757",
   "metadata": {},
   "outputs": [],
   "source": [
    "dic = {\"name\" : \"masoud\"}"
   ]
  },
  {
   "cell_type": "code",
   "execution_count": 33,
   "id": "5fe788cf",
   "metadata": {},
   "outputs": [
    {
     "data": {
      "text/plain": [
       "'masoud'"
      ]
     },
     "execution_count": 33,
     "metadata": {},
     "output_type": "execute_result"
    }
   ],
   "source": [
    "dic[\"name\"]"
   ]
  },
  {
   "cell_type": "code",
   "execution_count": 36,
   "id": "82fb46da",
   "metadata": {},
   "outputs": [],
   "source": [
    "dic[\"name\"]  = dic[\"name\"] + \" faramarzi\""
   ]
  },
  {
   "cell_type": "code",
   "execution_count": 37,
   "id": "555cef9c",
   "metadata": {},
   "outputs": [
    {
     "data": {
      "text/plain": [
       "'masoud faramarzi'"
      ]
     },
     "execution_count": 37,
     "metadata": {},
     "output_type": "execute_result"
    }
   ],
   "source": [
    "dic[\"name\"]"
   ]
  },
  {
   "cell_type": "code",
   "execution_count": 39,
   "id": "559f95b7",
   "metadata": {},
   "outputs": [],
   "source": [
    "dic[\"last\"] = []"
   ]
  },
  {
   "cell_type": "code",
   "execution_count": 40,
   "id": "bd1c336e",
   "metadata": {},
   "outputs": [],
   "source": [
    "dic[\"last\"].append(\"faramarzi\")"
   ]
  },
  {
   "cell_type": "code",
   "execution_count": 41,
   "id": "adada078",
   "metadata": {},
   "outputs": [
    {
     "data": {
      "text/plain": [
       "['faramarzi']"
      ]
     },
     "execution_count": 41,
     "metadata": {},
     "output_type": "execute_result"
    }
   ],
   "source": [
    "dic[\"last\"]"
   ]
  },
  {
   "cell_type": "code",
   "execution_count": 42,
   "id": "a3ae5008",
   "metadata": {},
   "outputs": [],
   "source": [
    "dic[\"last\"].append(\"hosseinpour\")"
   ]
  },
  {
   "cell_type": "code",
   "execution_count": 43,
   "id": "d8bb3d1f",
   "metadata": {},
   "outputs": [
    {
     "data": {
      "text/plain": [
       "['faramarzi', 'hosseinpour']"
      ]
     },
     "execution_count": 43,
     "metadata": {},
     "output_type": "execute_result"
    }
   ],
   "source": [
    "dic[\"last\"]"
   ]
  },
  {
   "cell_type": "code",
   "execution_count": null,
   "id": "76787b84",
   "metadata": {},
   "outputs": [],
   "source": []
  }
 ],
 "metadata": {
  "kernelspec": {
   "display_name": "csc591",
   "language": "python",
   "name": "csc591"
  },
  "language_info": {
   "codemirror_mode": {
    "name": "ipython",
    "version": 3
   },
   "file_extension": ".py",
   "mimetype": "text/x-python",
   "name": "python",
   "nbconvert_exporter": "python",
   "pygments_lexer": "ipython3",
   "version": "3.8.10"
  }
 },
 "nbformat": 4,
 "nbformat_minor": 5
}
