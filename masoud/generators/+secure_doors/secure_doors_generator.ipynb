{
 "cells": [
  {
   "cell_type": "code",
   "execution_count": 2,
   "id": "b866669a",
   "metadata": {},
   "outputs": [],
   "source": [
    "import json\n",
    "import random\n",
    "from random import choice\n",
    "import names"
   ]
  },
  {
   "cell_type": "code",
   "execution_count": 8,
   "id": "a140649d",
   "metadata": {},
   "outputs": [],
   "source": [
    "def generateNumbers():#generating input numbers\n",
    "\n",
    "    random.seed(500)\n",
    "\n",
    "    entry_names_lst = []\n",
    "\n",
    "    # a list with 50 elem each for number of entery for each samp\n",
    "    num_entery = [random.randint(1, 1000) for _ in range (50)] \n",
    "    \n",
    "    #making a list of entry names lists with different length (random in range \"num_entery\")\n",
    "    for i in range(50):\n",
    "           #making 50 lists of entry sentences nested in another list\n",
    "            entry_names_lst.append([str(choice([\" entry \" , \"exit \"])) \n",
    "            + (names.get_first_name()) for _ in range (num_entery[i]) ]) \n",
    "\n",
    "    return num_entery, entry_names_lst"
   ]
  },
  {
   "cell_type": "code",
   "execution_count": 7,
   "id": "95235e66",
   "metadata": {},
   "outputs": [],
   "source": [
    "# print(generateNumbers())"
   ]
  },
  {
   "cell_type": "code",
   "execution_count": 12,
   "id": "d02bb208",
   "metadata": {},
   "outputs": [],
   "source": [
    "# generating a dic containing case, input, and result strings \n",
    "def generateCase(case, num_entery, entry_names_lst):\n",
    "\n",
    "    new_case = {}\n",
    "    already_entered_names_lst = []\n",
    "    \n",
    "    new_case[\"case\"] = case\n",
    "    new_case[\"input\"] = str(num_entery) + \" \" + \" \".join(entry_names_lst)\n",
    "    new_case[\"output\"] = []\n",
    "    \n",
    "    for word in entry_names_lst:\n",
    "        if (word.startswith(\"entry\")):\n",
    "            if (word.split(' ')[1] in already_entered_names_lst):\n",
    "                new_case[\"output\"].append(word.split(' ')[1] + \" entered\" + \" (ANOMALY)\") \n",
    "            else:\n",
    "                already_entered_names_lst.append(word.split(' ')[1])\n",
    "                new_case[\"output\"].append(word.split(' ')[1] + \" entered\") # Get 2nd word in String\n",
    "\n",
    "        elif (word.startswith(\"exit\")):\n",
    "            if (word.split(' ')[1] not in already_entered_names_lst):\n",
    "                new_case[\"output\"].append(word.split(' ')[1] + \" exited\" + \" (ANOMALY)\") \n",
    "            else:\n",
    "                already_entered_names_lst.remove(word.split(' ')[1])#I need to removed the name from the entry_names_lst\n",
    "                new_case[\"output\"].append(word.split(' ')[1] + \" exited\")# Get 2nd word in String\n",
    " \n",
    "\n",
    "    return new_case"
   ]
  },
  {
   "cell_type": "code",
   "execution_count": 14,
   "id": "af741c6c",
   "metadata": {},
   "outputs": [],
   "source": [
    "def generateTestCases(): #generating 50 test cases\n",
    "\n",
    "  num_entery, entry_names_lst = generateNumbers()\n",
    "\n",
    "  test_cases = {}\n",
    "  tests = []\n",
    "  for i in range(len(num_entery)):\n",
    "    tests.append(generateCase(i + 1, num_entery[i], entry_names_lst[i]))\n",
    "  \n",
    "  test_cases[\"tests\"] = tests\n",
    "\n",
    "  return test_cases\n",
    "\n",
    "test_cases = generateTestCases() \n",
    "\n",
    "with open('secure_doors.json', 'w') as json_file:\n",
    "  json.dump(test_cases, json_file, indent = 4, sort_keys = True)"
   ]
  },
  {
   "cell_type": "code",
   "execution_count": null,
   "id": "7760d5cf",
   "metadata": {},
   "outputs": [],
   "source": []
  }
 ],
 "metadata": {
  "kernelspec": {
   "display_name": "csc591",
   "language": "python",
   "name": "csc591"
  },
  "language_info": {
   "codemirror_mode": {
    "name": "ipython",
    "version": 3
   },
   "file_extension": ".py",
   "mimetype": "text/x-python",
   "name": "python",
   "nbconvert_exporter": "python",
   "pygments_lexer": "ipython3",
   "version": "3.8.10"
  }
 },
 "nbformat": 4,
 "nbformat_minor": 5
}
