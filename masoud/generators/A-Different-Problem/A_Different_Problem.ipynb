{
 "cells": [
  {
   "cell_type": "code",
   "execution_count": 1,
   "id": "c771593d",
   "metadata": {},
   "outputs": [],
   "source": [
    "import json\n",
    "import random"
   ]
  },
  {
   "cell_type": "code",
   "execution_count": 2,
   "id": "167f18a9",
   "metadata": {},
   "outputs": [],
   "source": [
    "def generateNumbers():#generating input numbers\n",
    "\n",
    "    random.seed(500)\n",
    "\n",
    "    first_numbers = [random.randint(0, 1000000000000000) for _ in range (50)]\n",
    "    \n",
    "    second_numbers = [random.randint(0, 1000000000000000) for _ in range (50)]\n",
    "\n",
    "    return first_numbers, second_numbers"
   ]
  },
  {
   "cell_type": "code",
   "execution_count": 3,
   "id": "9d21afcd",
   "metadata": {},
   "outputs": [],
   "source": [
    "def generateCase(case, first_number, second_number):# generating a dic containing case, input, and result strings \n",
    "\n",
    "    new_case = {}\n",
    "\n",
    "    new_case[\"case\"] = case\n",
    "    \n",
    "    new_case[\"input\"] = \"%s %s\" % (first_number, second_number)\n",
    "\n",
    "    result = first_number - second_number\n",
    "    \n",
    "    if (result < 0):\n",
    "        \n",
    "        result = -result\n",
    "    \n",
    "    new_case[\"output\"] = str(result)\n",
    "\n",
    "    return new_case"
   ]
  },
  {
   "cell_type": "code",
   "execution_count": 4,
   "id": "acd7f958",
   "metadata": {},
   "outputs": [],
   "source": [
    "def generateTestCases(): #generating 50 test cases\n",
    "\n",
    "    first_numbers, second_numbers = generateNumbers()\n",
    "\n",
    "    test_cases = {}\n",
    "    tests = []\n",
    "    for i in range(len(first_numbers)):\n",
    "        \n",
    "        tests.append(generateCase(i + 1, first_numbers[i], second_numbers[i]))\n",
    "\n",
    "    test_cases[\"tests\"] = tests\n",
    "\n",
    "    return test_cases"
   ]
  },
  {
   "cell_type": "code",
   "execution_count": 5,
   "id": "c866a682",
   "metadata": {},
   "outputs": [],
   "source": [
    "test_cases = generateTestCases() "
   ]
  },
  {
   "cell_type": "code",
   "execution_count": 6,
   "id": "ff8cc4d1",
   "metadata": {},
   "outputs": [],
   "source": [
    "with open('A_Different_Problem.json', 'w') as json_file:\n",
    "    \n",
    "    json.dump(test_cases, json_file, indent = 4, sort_keys = True)"
   ]
  },
  {
   "cell_type": "code",
   "execution_count": null,
   "id": "16d008db",
   "metadata": {},
   "outputs": [],
   "source": []
  }
 ],
 "metadata": {
  "kernelspec": {
   "display_name": "csc591",
   "language": "python",
   "name": "csc591"
  },
  "language_info": {
   "codemirror_mode": {
    "name": "ipython",
    "version": 3
   },
   "file_extension": ".py",
   "mimetype": "text/x-python",
   "name": "python",
   "nbconvert_exporter": "python",
   "pygments_lexer": "ipython3",
   "version": "3.8.10"
  }
 },
 "nbformat": 4,
 "nbformat_minor": 5
}
