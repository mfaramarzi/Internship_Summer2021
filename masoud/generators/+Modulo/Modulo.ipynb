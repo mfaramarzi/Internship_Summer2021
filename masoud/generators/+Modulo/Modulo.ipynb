{
 "cells": [
  {
   "cell_type": "markdown",
   "id": "47f88ca6",
   "metadata": {},
   "source": [
    "# Input\n",
    "\n",
    "The input will contain 10 non-negative integers, each smaller than 1000\n",
    ", one per line."
   ]
  },
  {
   "cell_type": "markdown",
   "id": "953c881e",
   "metadata": {},
   "source": [
    "# Output\n",
    "\n",
    "Output the number of distinct values when considered modulo 42\n",
    "on a single line."
   ]
  },
  {
   "cell_type": "code",
   "execution_count": 1,
   "id": "216b3005",
   "metadata": {},
   "outputs": [],
   "source": [
    "import json\n",
    "import random\n",
    "\n",
    "def generateNumbers():#generating input numbers\n",
    "\n",
    "    random.seed(500)\n",
    "    \n",
    "    numbers_lst = []\n",
    "    \n",
    "    for i in range(50):\n",
    "        \n",
    "        numbers_lst.append([random.randint(0, 1000) for _ in range (10)]) \n",
    "    \n",
    "\n",
    "    return numbers_lst"
   ]
  },
  {
   "cell_type": "code",
   "execution_count": 11,
   "id": "3756f9e5",
   "metadata": {},
   "outputs": [],
   "source": [
    "def generateCase(case, numbers_lst):# generating a dic containing case, input, and result strings \n",
    "    \n",
    "    counter = 0\n",
    "    \n",
    "    remainder_lst = []\n",
    "\n",
    "    new_case = {}\n",
    "\n",
    "    new_case[\"case\"] = case\n",
    "\n",
    "    new_case[\"input\"] = \" \".join([str(i) for i in numbers_lst])\n",
    "\n",
    "    for i in range(len(numbers_lst)):\n",
    "        \n",
    "        remainder = numbers_lst[i] % 42\n",
    "        \n",
    "        if (remainder not in remainder_lst):\n",
    "            \n",
    "            remainder_lst.append(remainder)\n",
    "            \n",
    "            counter += 1\n",
    "            \n",
    "    new_case[\"output\"] = counter\n",
    "\n",
    "    return new_case"
   ]
  },
  {
   "cell_type": "code",
   "execution_count": 12,
   "id": "1472cb84",
   "metadata": {},
   "outputs": [],
   "source": [
    "def generateTestCases(): #generating 50 test cases\n",
    "\n",
    "    numbers_lst = generateNumbers()\n",
    "\n",
    "    test_cases = {}\n",
    "    \n",
    "    tests = []\n",
    "    \n",
    "    for i in range(len(numbers_lst)):\n",
    "        \n",
    "        tests.append(generateCase(i + 1, numbers_lst[i]))\n",
    "\n",
    "    test_cases[\"tests\"] = tests\n",
    "\n",
    "    return test_cases"
   ]
  },
  {
   "cell_type": "code",
   "execution_count": 13,
   "id": "bf1e6cf8",
   "metadata": {},
   "outputs": [],
   "source": [
    "test_cases = generateTestCases() \n",
    "\n",
    "with open('Modulo.json', 'w') as json_file:\n",
    "    \n",
    "    json.dump(test_cases, json_file, indent = 4, sort_keys = True)"
   ]
  },
  {
   "cell_type": "code",
   "execution_count": null,
   "id": "546c3472",
   "metadata": {},
   "outputs": [],
   "source": []
  }
 ],
 "metadata": {
  "kernelspec": {
   "display_name": "csc591",
   "language": "python",
   "name": "csc591"
  },
  "language_info": {
   "codemirror_mode": {
    "name": "ipython",
    "version": 3
   },
   "file_extension": ".py",
   "mimetype": "text/x-python",
   "name": "python",
   "nbconvert_exporter": "python",
   "pygments_lexer": "ipython3",
   "version": "3.8.10"
  }
 },
 "nbformat": 4,
 "nbformat_minor": 5
}
