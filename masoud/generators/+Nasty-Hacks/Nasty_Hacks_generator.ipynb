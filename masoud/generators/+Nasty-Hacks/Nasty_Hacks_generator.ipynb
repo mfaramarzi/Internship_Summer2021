{
 "cells": [
  {
   "cell_type": "markdown",
   "id": "e45393a0",
   "metadata": {},
   "source": [
    "# Input\n",
    "\n",
    "The input consists of n\n",
    "cases, and the first line consists of one positive integer giving n. The next n lines each contain 3 integers, r, e and c. The first, r, is the expected revenue if you do not advertise, the second, e, is the expected revenue if you do advertise, and the third, c, is the cost of advertising. You can assume that the input will follow these restrictions: 1≤n≤100, −106≤r,e≤106 and 0≤c≤106."
   ]
  },
  {
   "cell_type": "markdown",
   "id": "37ea550c",
   "metadata": {},
   "source": [
    "# Output\n",
    "\n",
    "Output one line for each test case: “advertise”, “do not advertise” or “does not matter”, indicating whether it is most profitable to advertise or not, or whether it does not make any difference."
   ]
  },
  {
   "cell_type": "code",
   "execution_count": 1,
   "id": "9315bdf4",
   "metadata": {},
   "outputs": [],
   "source": [
    "import json\n",
    "import random"
   ]
  },
  {
   "cell_type": "code",
   "execution_count": 2,
   "id": "6234ff69",
   "metadata": {},
   "outputs": [],
   "source": [
    "# A func to generate 50 input values and return them as seperate lists\n",
    "\n",
    "def generateNumbers():\n",
    "\n",
    "    random.seed(500)\n",
    "\n",
    "    rev_no_adv = [random.randint(1, 100) for _ in range (50)]\n",
    "    \n",
    "    rev_adv = [random.randint(-106, 106) for _ in range (50)]\n",
    "    \n",
    "    cost_adv = [random.randint(0, 106) for _ in range (50)]\n",
    "\n",
    "    return rev_no_adv, rev_adv, cost_adv"
   ]
  },
  {
   "cell_type": "code",
   "execution_count": 12,
   "id": "81d3a50f",
   "metadata": {},
   "outputs": [],
   "source": [
    "# generating a dic containing case, input, and result strings \n",
    "\n",
    "def generateCase(case, rev_no_adv, rev_adv, cost_adv):\n",
    "\n",
    "    new_case = {}\n",
    "\n",
    "    new_case[\"case\"] = case\n",
    "    \n",
    "    new_case[\"input\"] = \"%s %s %s\" % (rev_no_adv, rev_adv, cost_adv)\n",
    "\n",
    "    if (rev_adv - rev_no_adv > cost_adv):\n",
    "        new_case[\"output\"] = \"advertise\"\n",
    "    \n",
    "    elif (rev_adv - rev_no_adv == cost_adv):\n",
    "        new_case[\"output\"] = \"does not matter\"\n",
    "\n",
    "    elif (rev_adv - rev_no_adv < cost_adv):\n",
    "        new_case[\"output\"] = \"do not advertise\"\n",
    "    \n",
    "    return new_case"
   ]
  },
  {
   "cell_type": "code",
   "execution_count": 17,
   "id": "b1c33a9b",
   "metadata": {},
   "outputs": [],
   "source": [
    "def generateTestCases(): #generating 50 test cases\n",
    "\n",
    "    rev_no_adv, rev_adv, cost_adv = generateNumbers()\n",
    "\n",
    "    test_cases = {}\n",
    "    \n",
    "    tests = []\n",
    "    \n",
    "    for i in range(len(rev_no_adv)):\n",
    "        \n",
    "        tests.append(generateCase(i + 1, rev_no_adv[i], rev_adv[i], cost_adv[i]))\n",
    "\n",
    "    test_cases[\"tests\"] = tests\n",
    "\n",
    "    return test_cases"
   ]
  },
  {
   "cell_type": "code",
   "execution_count": 18,
   "id": "5a416b4f",
   "metadata": {},
   "outputs": [],
   "source": [
    "test_cases = generateTestCases() \n",
    "\n",
    "with open('Nasty_Hacks.json', 'w') as json_file:\n",
    "    \n",
    "    json.dump(test_cases, json_file, indent = 4, sort_keys = True)"
   ]
  },
  {
   "cell_type": "code",
   "execution_count": null,
   "id": "a8be8b2a",
   "metadata": {},
   "outputs": [],
   "source": []
  },
  {
   "cell_type": "code",
   "execution_count": null,
   "id": "004127e1",
   "metadata": {},
   "outputs": [],
   "source": []
  }
 ],
 "metadata": {
  "kernelspec": {
   "display_name": "csc591",
   "language": "python",
   "name": "csc591"
  },
  "language_info": {
   "codemirror_mode": {
    "name": "ipython",
    "version": 3
   },
   "file_extension": ".py",
   "mimetype": "text/x-python",
   "name": "python",
   "nbconvert_exporter": "python",
   "pygments_lexer": "ipython3",
   "version": "3.8.10"
  }
 },
 "nbformat": 4,
 "nbformat_minor": 5
}
