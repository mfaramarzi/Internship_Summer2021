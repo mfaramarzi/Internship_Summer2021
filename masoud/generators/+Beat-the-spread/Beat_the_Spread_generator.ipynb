{
 "cells": [
  {
   "cell_type": "code",
   "execution_count": 1,
   "id": "2e7e02aa",
   "metadata": {},
   "outputs": [],
   "source": [
    "import json\n",
    "import random\n",
    "\n",
    "def generateNumbers():#generating input numbers\n",
    "\n",
    "    random.seed(500)\n",
    "\n",
    "    sum_num = [random.randint(0 , 1000) for _ in range (50)]\n",
    "    diff_num = [random.randint(0 , 1000) for _ in range (50)]\n",
    "\n",
    "    return sum_num, diff_num"
   ]
  },
  {
   "cell_type": "code",
   "execution_count": 3,
   "id": "9fe8a2a1",
   "metadata": {},
   "outputs": [],
   "source": [
    "def generateCase(case, sum_num, diff_num):# generating a dic containing case, input, and result strings \n",
    "\n",
    "    new_case = {}\n",
    "\n",
    "    new_case[\"case\"] = case\n",
    "\n",
    "    new_case[\"input\"] = \"%d %d\" % (sum_num, diff_num)\n",
    "\n",
    "    a = (sum_num + diff_num)/2\n",
    "    \n",
    "    b = a - diff_num\n",
    "    \n",
    "    if (( a * 2 == sum_num + diff_num ) and ( b >= 0 )):\n",
    "    \n",
    "        new_case[\"output\"] = \" %s %s \" %(a, b)\n",
    "        \n",
    "    else:\n",
    "        new_case[\"output\"] = \"impossible\"\n",
    "\n",
    "    return new_case"
   ]
  },
  {
   "cell_type": "code",
   "execution_count": null,
   "id": "3efdebdc",
   "metadata": {},
   "outputs": [],
   "source": [
    "def generateTestCases(): #generating 50 test cases\n",
    "\n",
    "    sum_num, diff_num = generateNumbers()\n",
    "\n",
    "    test_cases = {}\n",
    "    \n",
    "    tests = []\n",
    "    \n",
    "    for i in range(len(sum_num)):\n",
    "        \n",
    "        tests.append(generateCase(i + 1, sum_num[i], diff_num[i]))\n",
    "\n",
    "    test_cases[\"tests\"] = tests\n",
    "\n",
    "    return test_cases"
   ]
  },
  {
   "cell_type": "code",
   "execution_count": null,
   "id": "fba7e897",
   "metadata": {},
   "outputs": [],
   "source": [
    "test_cases = generateTestCases() \n",
    "\n",
    "with open('addition.json', 'w') as json_file:\n",
    "  json.dump(test_cases, json_file, indent = 4, sort_keys = True)"
   ]
  }
 ],
 "metadata": {
  "kernelspec": {
   "display_name": "csc591",
   "language": "python",
   "name": "csc591"
  },
  "language_info": {
   "codemirror_mode": {
    "name": "ipython",
    "version": 3
   },
   "file_extension": ".py",
   "mimetype": "text/x-python",
   "name": "python",
   "nbconvert_exporter": "python",
   "pygments_lexer": "ipython3",
   "version": "3.8.10"
  }
 },
 "nbformat": 4,
 "nbformat_minor": 5
}
