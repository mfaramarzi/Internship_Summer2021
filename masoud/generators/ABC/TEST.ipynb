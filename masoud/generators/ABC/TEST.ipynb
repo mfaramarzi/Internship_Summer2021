{
 "cells": [
  {
   "cell_type": "code",
   "execution_count": 1,
   "id": "6f810de5",
   "metadata": {},
   "outputs": [],
   "source": [
    "import random"
   ]
  },
  {
   "cell_type": "code",
   "execution_count": 2,
   "id": "9ea60d3b",
   "metadata": {},
   "outputs": [],
   "source": [
    "lst = [\"A\" , \"B\" , \"C\"]"
   ]
  },
  {
   "cell_type": "code",
   "execution_count": 3,
   "id": "57ed8f43",
   "metadata": {},
   "outputs": [],
   "source": [
    "random.shuffle(lst)"
   ]
  },
  {
   "cell_type": "code",
   "execution_count": 4,
   "id": "53681600",
   "metadata": {},
   "outputs": [
    {
     "data": {
      "text/plain": [
       "['B', 'C', 'A']"
      ]
     },
     "execution_count": 4,
     "metadata": {},
     "output_type": "execute_result"
    }
   ],
   "source": [
    "lst"
   ]
  },
  {
   "cell_type": "code",
   "execution_count": 10,
   "id": "0a405193",
   "metadata": {},
   "outputs": [
    {
     "data": {
      "text/plain": [
       "'BCA'"
      ]
     },
     "execution_count": 10,
     "metadata": {},
     "output_type": "execute_result"
    }
   ],
   "source": [
    "\"\".join(lst)"
   ]
  },
  {
   "cell_type": "code",
   "execution_count": 11,
   "id": "14638c39",
   "metadata": {},
   "outputs": [
    {
     "data": {
      "text/plain": [
       "['B', 'C', 'A']"
      ]
     },
     "execution_count": 11,
     "metadata": {},
     "output_type": "execute_result"
    }
   ],
   "source": [
    "lst"
   ]
  },
  {
   "cell_type": "code",
   "execution_count": 5,
   "id": "e470e157",
   "metadata": {},
   "outputs": [],
   "source": [
    "dic = {\"A\" : 2, \"B\" : 5, \"C\" : 6}"
   ]
  },
  {
   "cell_type": "code",
   "execution_count": 7,
   "id": "931960a8",
   "metadata": {},
   "outputs": [],
   "source": [
    "final_lst = []"
   ]
  },
  {
   "cell_type": "code",
   "execution_count": 8,
   "id": "454b07fa",
   "metadata": {},
   "outputs": [],
   "source": [
    "for i in lst:\n",
    "    \n",
    "    final_lst.append(dic[i])"
   ]
  },
  {
   "cell_type": "code",
   "execution_count": 9,
   "id": "af008578",
   "metadata": {},
   "outputs": [
    {
     "data": {
      "text/plain": [
       "'5 6 2'"
      ]
     },
     "execution_count": 9,
     "metadata": {},
     "output_type": "execute_result"
    }
   ],
   "source": [
    "\"%d %d %d\" % (final_lst[0], final_lst[1], final_lst[2])"
   ]
  },
  {
   "cell_type": "code",
   "execution_count": 12,
   "id": "df768637",
   "metadata": {},
   "outputs": [],
   "source": [
    "lst = [\"A\" , \"B\" , \"C\"]"
   ]
  },
  {
   "cell_type": "code",
   "execution_count": 13,
   "id": "cf3b93a7",
   "metadata": {},
   "outputs": [],
   "source": [
    "random.shuffle(lst)"
   ]
  },
  {
   "cell_type": "code",
   "execution_count": 14,
   "id": "3c110abd",
   "metadata": {},
   "outputs": [
    {
     "data": {
      "text/plain": [
       "['C', 'A', 'B']"
      ]
     },
     "execution_count": 14,
     "metadata": {},
     "output_type": "execute_result"
    }
   ],
   "source": [
    "lst"
   ]
  },
  {
   "cell_type": "code",
   "execution_count": 14,
   "id": "95159430",
   "metadata": {},
   "outputs": [
    {
     "data": {
      "text/plain": [
       "[]"
      ]
     },
     "execution_count": 14,
     "metadata": {},
     "output_type": "execute_result"
    }
   ],
   "source": [
    "first = random.choice(lst)\n",
    "lst.remove(first)\n",
    "lst"
   ]
  },
  {
   "cell_type": "code",
   "execution_count": 12,
   "id": "8ca1eeaf",
   "metadata": {},
   "outputs": [
    {
     "data": {
      "text/plain": [
       "['B']"
      ]
     },
     "execution_count": 12,
     "metadata": {},
     "output_type": "execute_result"
    }
   ],
   "source": [
    "second = random.choice(lst)\n",
    "lst.remove(second)\n",
    "lst"
   ]
  },
  {
   "cell_type": "code",
   "execution_count": null,
   "id": "e7ff2c94",
   "metadata": {},
   "outputs": [],
   "source": []
  }
 ],
 "metadata": {
  "kernelspec": {
   "display_name": "csc591",
   "language": "python",
   "name": "csc591"
  },
  "language_info": {
   "codemirror_mode": {
    "name": "ipython",
    "version": 3
   },
   "file_extension": ".py",
   "mimetype": "text/x-python",
   "name": "python",
   "nbconvert_exporter": "python",
   "pygments_lexer": "ipython3",
   "version": "3.8.10"
  }
 },
 "nbformat": 4,
 "nbformat_minor": 5
}
