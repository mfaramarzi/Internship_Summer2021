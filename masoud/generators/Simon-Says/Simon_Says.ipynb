{
 "cells": [
  {
   "cell_type": "code",
   "execution_count": 1,
   "id": "fd2f116f",
   "metadata": {},
   "outputs": [],
   "source": [
    "import json\n",
    "import random"
   ]
  },
  {
   "cell_type": "code",
   "execution_count": 2,
   "id": "d03bbd46",
   "metadata": {},
   "outputs": [],
   "source": [
    "def generateNumbers():#generating input numbers\n",
    "\n",
    "    random.seed(500)\n",
    "\n",
    "    num_lines = [random.randint(1, 20) for _ in range (50)]\n",
    "    \n",
    "#     writing a sentence which randomly may start with a specific words\n",
    "        \n",
    "        # why used tuples not list?\n",
    "    nouns = (\"puppy\", \"car\", \"rabbit\", \"simon\", \"simon\")\n",
    "    verbs = (\"runs\", \"hits\", \"jumps\", \"says\", \"says\") \n",
    "    adj = (\"adorable\", \"clueless\", \"dirty\", \"odd\", \"stupid\")\n",
    "    adv = (\"crazily.\", \"dutifully.\", \"foolishly.\", \"merrily.\", \"occasionally.\")\n",
    "\n",
    "    l=[nouns,verbs,adj,adv] #list of tuples\n",
    "    \n",
    "    all_sentences = []\n",
    "        \n",
    "    for i in range (50):\n",
    "        \n",
    "        #list comprehension\n",
    "        all_sentences.append([' '.join([random.choice(j) for j in l])\n",
    "                              for k in range (num_lines[i])])\n",
    "\n",
    "    return num_lines, all_sentences"
   ]
  },
  {
   "cell_type": "code",
   "execution_count": 3,
   "id": "4e55cfa4",
   "metadata": {},
   "outputs": [],
   "source": [
    "# generateNumbers()"
   ]
  },
  {
   "cell_type": "code",
   "execution_count": 4,
   "id": "c217884d",
   "metadata": {},
   "outputs": [],
   "source": [
    "def generateCase(case, num_lines, all_sentences):# generating a dic containing case, input, and result strings \n",
    "\n",
    "    new_case = {}\n",
    "\n",
    "    new_case[\"case\"] = case\n",
    "    \n",
    "    new_case[\"input\"] = str(num_lines)\n",
    "    \n",
    "    for i in range (len(all_sentences)):\n",
    "    \n",
    "        new_case[\"input\"] = new_case[\"input\"] + \"\\n\" + all_sentences[i]\n",
    "        \n",
    "    new_case[\"output\"] = \"\"\n",
    "    \n",
    "    for i in range (len(all_sentences)):\n",
    "        \n",
    "    #     if sentence does not start with \"simon says\", print empty line\n",
    "    # else print the rest of sentence\n",
    "\n",
    "        if (all_sentences[i].startswith(\"simon says\")):\n",
    "\n",
    "    #splitting stence by space and slicing from index 2 to the end\n",
    "            command_sent = \"\"\n",
    "        \n",
    "            splitted_sent = all_sentences[i].split(\" \")\n",
    "\n",
    "            command_sent += \" \" .join(splitted_sent[2:])\n",
    "\n",
    "            new_case[\"output\"] = new_case[\"output\"] + \"\\n\" + command_sent\n",
    "\n",
    "        else:\n",
    "\n",
    "            new_case[\"output\"] = new_case[\"output\"] + \"\\n\" + \"\"\n",
    "            \n",
    "    new_case[\"output\"] = new_case[\"output\"].strip()\n",
    "\n",
    "    return new_case"
   ]
  },
  {
   "cell_type": "code",
   "execution_count": 5,
   "id": "34006b9f",
   "metadata": {},
   "outputs": [],
   "source": [
    "def generateTestCases(): #generating 50 test cases\n",
    "\n",
    "    num_lines, all_sentences = generateNumbers()\n",
    "\n",
    "    test_cases = {}\n",
    "    \n",
    "    tests = []\n",
    "    \n",
    "    for i in range(len(num_lines)):\n",
    "        \n",
    "        tests.append(generateCase(i + 1, num_lines[i], all_sentences[i]))\n",
    "\n",
    "    test_cases[\"tests\"] = tests\n",
    "\n",
    "    return test_cases"
   ]
  },
  {
   "cell_type": "code",
   "execution_count": 6,
   "id": "766a4649",
   "metadata": {},
   "outputs": [],
   "source": [
    "test_cases = generateTestCases() "
   ]
  },
  {
   "cell_type": "code",
   "execution_count": 7,
   "id": "9a5901d7",
   "metadata": {},
   "outputs": [],
   "source": [
    "with open('Simon_Says.json', 'w') as json_file:\n",
    "    \n",
    "    json.dump(test_cases, json_file, indent = 4, sort_keys = True)"
   ]
  },
  {
   "cell_type": "code",
   "execution_count": null,
   "id": "6ad40faf",
   "metadata": {},
   "outputs": [],
   "source": []
  }
 ],
 "metadata": {
  "kernelspec": {
   "display_name": "csc591",
   "language": "python",
   "name": "csc591"
  },
  "language_info": {
   "codemirror_mode": {
    "name": "ipython",
    "version": 3
   },
   "file_extension": ".py",
   "mimetype": "text/x-python",
   "name": "python",
   "nbconvert_exporter": "python",
   "pygments_lexer": "ipython3",
   "version": "3.8.10"
  }
 },
 "nbformat": 4,
 "nbformat_minor": 5
}
