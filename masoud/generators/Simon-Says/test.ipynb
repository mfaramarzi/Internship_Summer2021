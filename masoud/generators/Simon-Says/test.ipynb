{
 "cells": [
  {
   "cell_type": "code",
   "execution_count": 1,
   "id": "119a7f82",
   "metadata": {},
   "outputs": [],
   "source": [
    "import random"
   ]
  },
  {
   "cell_type": "code",
   "execution_count": 11,
   "id": "fc8c47c4",
   "metadata": {},
   "outputs": [],
   "source": [
    "# why used tuples not list?\n",
    "nouns = (\"puppy\", \"car\", \"rabbit\", \"girl\", \"simon\")\n",
    "verbs = (\"runs\", \"hits\", \"jumps\", \"drives\", \"says\") \n",
    "adj = (\"adorable\", \"clueless\", \"dirty\", \"odd\", \"stupid\")\n",
    "adv = (\"crazily.\", \"dutifully.\", \"foolishly.\", \"merrily.\", \"occasionally.\")"
   ]
  },
  {
   "cell_type": "code",
   "execution_count": 12,
   "id": "0d881b20",
   "metadata": {},
   "outputs": [],
   "source": [
    "l=[nouns,verbs,adj,adv] #list of tuples"
   ]
  },
  {
   "cell_type": "code",
   "execution_count": 13,
   "id": "5f281315",
   "metadata": {},
   "outputs": [
    {
     "data": {
      "text/plain": [
       "'car jumps odd dutifully.'"
      ]
     },
     "execution_count": 13,
     "metadata": {},
     "output_type": "execute_result"
    }
   ],
   "source": [
    "' '.join([random.choice(i) for i in l])#list comprehension"
   ]
  },
  {
   "cell_type": "code",
   "execution_count": null,
   "id": "0dc5f423",
   "metadata": {},
   "outputs": [],
   "source": []
  }
 ],
 "metadata": {
  "kernelspec": {
   "display_name": "csc591",
   "language": "python",
   "name": "csc591"
  },
  "language_info": {
   "codemirror_mode": {
    "name": "ipython",
    "version": 3
   },
   "file_extension": ".py",
   "mimetype": "text/x-python",
   "name": "python",
   "nbconvert_exporter": "python",
   "pygments_lexer": "ipython3",
   "version": "3.8.10"
  }
 },
 "nbformat": 4,
 "nbformat_minor": 5
}
