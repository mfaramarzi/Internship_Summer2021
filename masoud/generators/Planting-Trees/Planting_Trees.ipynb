{
 "cells": [
  {
   "cell_type": "code",
   "execution_count": 24,
   "id": "8e092466",
   "metadata": {},
   "outputs": [],
   "source": [
    "import json\n",
    "import random"
   ]
  },
  {
   "cell_type": "code",
   "execution_count": 25,
   "id": "96cfab2e",
   "metadata": {},
   "outputs": [],
   "source": [
    "def generateNumbers():#generating input numbers\n",
    "\n",
    "    random.seed(500)\n",
    "\n",
    "    num_seedlings = [random.randint(1, 100) for _ in range(50)]\n",
    "    \n",
    "#     a 2-d list\n",
    "    growth_times = [[random.randint(1, 1000) for i in range(num_seedlings[j])]\n",
    "                    \n",
    "                    for j in range (50)]\n",
    "\n",
    "    return num_seedlings, growth_times"
   ]
  },
  {
   "cell_type": "code",
   "execution_count": 26,
   "id": "9ab545ca",
   "metadata": {},
   "outputs": [],
   "source": [
    "def generateCase(case, num_seedlings, growth_times):# generating a dic containing case, input, and result strings \n",
    "\n",
    "    new_case = {}\n",
    "\n",
    "    new_case[\"case\"] = case\n",
    "    \n",
    "    new_case[\"input\"] = str(num_seedlings)\n",
    "    \n",
    "    new_case[\"input\"] = new_case[\"input\"] + \"\\n\" + \" \".join([str(i) for i in growth_times])\n",
    "    \n",
    "    sorted_growth_times = sorted(growth_times, reverse = True) #point is here. normally iot is in ascending order. I want it to be in descending order\n",
    "    \n",
    "#     print(sorted_growth_times)\n",
    "    \n",
    "    max_time = max(sorted_growth_times)\n",
    "\n",
    "    result = max_time + 1\n",
    "    \n",
    "    for i in range (1 , num_seedlings):\n",
    "        \n",
    "        if (sorted_growth_times[i] > max_time - i):\n",
    "            \n",
    "            result += 1 \n",
    "            \n",
    "            \n",
    "#             minday = 0\n",
    "# for i in range(numb):\n",
    "#     if (minday < trees[i]+i+1):\n",
    "#         minday = trees[i]+i+1\n",
    "        \n",
    "#     result = 0\n",
    "    \n",
    "#     for i in range (num_seedlings):\n",
    "        \n",
    "#         if (sorted_growth_times[i] + i + 1 > result):\n",
    "            \n",
    "#             result = sorted_growth_times[i] + i + 1\n",
    "            \n",
    "            \n",
    "\n",
    "#     result = 0\n",
    "    \n",
    "#     for i in range (0 , num_seedlings):\n",
    "        \n",
    "#         if (sorted_growth_times[i] + i > result):\n",
    "            \n",
    "#             result = sorted_growth_times[i] + i\n",
    "    \n",
    "    new_case[\"output\"] = str(result + 1)\n",
    "\n",
    "    return new_case"
   ]
  },
  {
   "cell_type": "code",
   "execution_count": 27,
   "id": "7bbaae2d",
   "metadata": {},
   "outputs": [],
   "source": [
    "def generateTestCases(): #generating 50 test cases\n",
    "\n",
    "    num_seedlings, growth_times = generateNumbers()\n",
    "\n",
    "    test_cases = {}\n",
    "    \n",
    "    tests = []\n",
    "    \n",
    "    for i in range(len(num_seedlings)):\n",
    "        \n",
    "        tests.append(generateCase(i + 1, num_seedlings[i], growth_times[i]))\n",
    "\n",
    "    test_cases[\"tests\"] = tests\n",
    "\n",
    "    return test_cases"
   ]
  },
  {
   "cell_type": "code",
   "execution_count": 31,
   "id": "7aabb917",
   "metadata": {},
   "outputs": [],
   "source": [
    "# generateTestCases()"
   ]
  },
  {
   "cell_type": "code",
   "execution_count": 29,
   "id": "d7e0888e",
   "metadata": {},
   "outputs": [],
   "source": [
    "test_cases = generateTestCases() "
   ]
  },
  {
   "cell_type": "code",
   "execution_count": 30,
   "id": "93004b3e",
   "metadata": {},
   "outputs": [],
   "source": [
    "with open('Planting_Trees.json', 'w') as json_file:\n",
    "    \n",
    "    json.dump(test_cases, json_file, indent = 4, sort_keys = True)"
   ]
  },
  {
   "cell_type": "code",
   "execution_count": null,
   "id": "cd2ba996",
   "metadata": {},
   "outputs": [],
   "source": []
  }
 ],
 "metadata": {
  "kernelspec": {
   "display_name": "csc591",
   "language": "python",
   "name": "csc591"
  },
  "language_info": {
   "codemirror_mode": {
    "name": "ipython",
    "version": 3
   },
   "file_extension": ".py",
   "mimetype": "text/x-python",
   "name": "python",
   "nbconvert_exporter": "python",
   "pygments_lexer": "ipython3",
   "version": "3.8.10"
  }
 },
 "nbformat": 4,
 "nbformat_minor": 5
}
