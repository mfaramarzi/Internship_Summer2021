{
 "cells": [
  {
   "cell_type": "markdown",
   "id": "0af85cae",
   "metadata": {},
   "source": [
    "## Instruction\n",
    "Moving a turtle from the starting point to a diamond\n",
    "we have a 8 * 8 board\n",
    "* tutle marked with the letter \"T\" starting from bottom left facing right\n",
    "* empty squares are marked with \".\"\n",
    "* rock-castles marked with \"C\"\n",
    "* Ice-castles marked with \"I\"\n",
    "* Diamond marked with \"D\"\n",
    "* turtle move only onto empty squares and the square the diamond is located.\n",
    "\n",
    "**A turtle program contains 4 kinds of instructions, marked by a single letter.**\n",
    "\n",
    "* F The turtle moves one field forward in the direction it is facing. If the turtle faces a castle or the border of the board, a program error occurs.\n",
    "\n",
    "* R The turtle turns 90 degrees to the right (the turtle will just turn and stay on the same field).\n",
    "\n",
    "* L The turtle turns 90 degrees to the left (the turtle will just turn and stay on the same field).\n",
    "\n",
    "* X The turtle fires a laser in the direction it is facing. If the square it is facing contains an ice castle, the ice castle will melt and the square will turn into an empty square. Otherwise, a program error occurs. The turtle will not move or change direction. It is a program error to fire the laser at empty squares, rock castles or outside the board.\n",
    "\n",
    "**Input**\n",
    "\n",
    "The input consists of 9 lines. The first 8 lines contains the board, each line representing the squares in a row of the board. The turtle will always be at the bottom-left. There will be exactly 1 diamond. The 9th line contains the program the turtle master is asked to execute, which contains at least 1 and at most 60 instructions.\n",
    "\n",
    "**Output**\n",
    "\n",
    "Output **Diamond!** if the entire program can be executed without program error and if the turtle is on the diamond square after the program has been executed. Output **Bug!** if a program error occurred, or if the turtle does not end up on the diamond square!\n"
   ]
  },
  {
   "cell_type": "markdown",
   "id": "72d2afb1",
   "metadata": {},
   "source": [
    "##Sudo\n",
    "inputting the board. consisting 8 lines of 8 squares\n",
    "inputting instructions as long as ctrl+D?\n",
    "if inst == l: deducting index\n",
    "first changing the orientation, then executing \"f\"\n",
    "The first orientation is \"R\", every time we enter \"R\" or \"L\" this orientations changes\n"
   ]
  },
  {
   "cell_type": "code",
   "execution_count": 47,
   "id": "a38a5295",
   "metadata": {},
   "outputs": [
    {
     "name": "stdout",
     "output_type": "stream",
     "text": [
      "8\n",
      "........\n",
      "........\n",
      "........\n",
      "........\n",
      "........\n",
      "........\n",
      "........\n",
      "........\n"
     ]
    }
   ],
   "source": [
    "#INPUTING THE BOARD\n",
    "# How to make and input a 2-d array of characters?\n",
    "\n",
    "size = int(input()) #number of rows\n",
    "array_input = [[]]\n",
    "# for x in range(size):\n",
    "#     array_input.append([y for y in input().split()])\n",
    "# print(array_input)\n",
    "\n",
    "array_input= [[j for j in input().strip()] for i in range(size)] \n",
    "\n",
    "    \n",
    "# for i in range (1 , 9):\n",
    "#     for j in range (1 , 9):\n",
    "#         array_input[i][j] = input()"
   ]
  },
  {
   "cell_type": "code",
   "execution_count": 48,
   "id": "4473e907",
   "metadata": {},
   "outputs": [
    {
     "name": "stdout",
     "output_type": "stream",
     "text": [
      "[['.', '.', '.', '.', '.', '.', '.', '.'], ['.', '.', '.', '.', '.', '.', '.', '.'], ['.', '.', '.', '.', '.', '.', '.', '.'], ['.', '.', '.', '.', '.', '.', '.', '.'], ['.', '.', '.', '.', '.', '.', '.', '.'], ['.', '.', '.', '.', '.', '.', '.', '.'], ['.', '.', '.', '.', '.', '.', '.', '.'], ['.', '.', '.', '.', '.', '.', '.', '.']]\n"
     ]
    }
   ],
   "source": [
    "print(array_input)"
   ]
  },
  {
   "cell_type": "code",
   "execution_count": 49,
   "id": "a92d9f2a",
   "metadata": {},
   "outputs": [
    {
     "name": "stdout",
     "output_type": "stream",
     "text": [
      "RL\n"
     ]
    },
    {
     "data": {
      "text/plain": [
       "['R', 'L']"
      ]
     },
     "execution_count": 49,
     "metadata": {},
     "output_type": "execute_result"
    }
   ],
   "source": [
    "# Inputting Instruction\n",
    "commands = input()\n",
    "list(commands)#CONVERTING STRING TO LIST OF CHARACTERS"
   ]
  },
  {
   "cell_type": "code",
   "execution_count": 50,
   "id": "7cfb4d13",
   "metadata": {},
   "outputs": [
    {
     "data": {
      "text/plain": [
       "str"
      ]
     },
     "execution_count": 50,
     "metadata": {},
     "output_type": "execute_result"
    }
   ],
   "source": [
    "type(commands)"
   ]
  },
  {
   "cell_type": "code",
   "execution_count": 51,
   "id": "54c3791e",
   "metadata": {},
   "outputs": [],
   "source": [
    "dir = 0 #Direction\n",
    "\n",
    "# 0: Right\n",
    "# 1: Up\n",
    "# 2: Left\n",
    "# 3: Down"
   ]
  },
  {
   "cell_type": "code",
   "execution_count": 52,
   "id": "51dffc2a",
   "metadata": {},
   "outputs": [],
   "source": [
    "## Location\n",
    "x = 1\n",
    "y = 8"
   ]
  },
  {
   "cell_type": "code",
   "execution_count": 61,
   "id": "5cbce195",
   "metadata": {},
   "outputs": [
    {
     "ename": "IndexError",
     "evalue": "list index out of range",
     "output_type": "error",
     "traceback": [
      "\u001b[0;31m---------------------------------------------------------------------------\u001b[0m",
      "\u001b[0;31mIndexError\u001b[0m                                Traceback (most recent call last)",
      "\u001b[0;32m<ipython-input-61-580c74dec7a8>\u001b[0m in \u001b[0;36m<module>\u001b[0;34m\u001b[0m\n\u001b[1;32m     53\u001b[0m             \u001b[0marray_input\u001b[0m\u001b[0;34m[\u001b[0m\u001b[0mtempy\u001b[0m\u001b[0;34m]\u001b[0m\u001b[0;34m[\u001b[0m\u001b[0mtempx\u001b[0m\u001b[0;34m]\u001b[0m \u001b[0;34m=\u001b[0m \u001b[0;34m\".\"\u001b[0m\u001b[0;34m\u001b[0m\u001b[0;34m\u001b[0m\u001b[0m\n\u001b[1;32m     54\u001b[0m \u001b[0;34m\u001b[0m\u001b[0m\n\u001b[0;32m---> 55\u001b[0;31m \u001b[0;32mif\u001b[0m \u001b[0;34m(\u001b[0m\u001b[0marray_input\u001b[0m\u001b[0;34m[\u001b[0m\u001b[0my\u001b[0m\u001b[0;34m]\u001b[0m\u001b[0;34m[\u001b[0m\u001b[0mx\u001b[0m\u001b[0;34m]\u001b[0m \u001b[0;34m==\u001b[0m \u001b[0;34m\"D\"\u001b[0m\u001b[0;34m)\u001b[0m\u001b[0;34m:\u001b[0m\u001b[0;34m\u001b[0m\u001b[0;34m\u001b[0m\u001b[0m\n\u001b[0m\u001b[1;32m     56\u001b[0m \u001b[0;34m\u001b[0m\u001b[0m\n\u001b[1;32m     57\u001b[0m     \u001b[0mprint\u001b[0m \u001b[0;34m(\u001b[0m\u001b[0;34m\"Diamond!\"\u001b[0m\u001b[0;34m)\u001b[0m\u001b[0;34m\u001b[0m\u001b[0;34m\u001b[0m\u001b[0m\n",
      "\u001b[0;31mIndexError\u001b[0m: list index out of range"
     ]
    }
   ],
   "source": [
    "for c in commands:\n",
    "    if (c == \"F\"):\n",
    "        if (dir == 0): #right direction\n",
    "            x += 1\n",
    "        elif (dir == 1): #up direction\n",
    "            y -= 1\n",
    "        elif (dir == 2): #left direction\n",
    "            x -= 1\n",
    "        elif (dir == 1): #down direction\n",
    "            y += 1\n",
    "            \n",
    "        elif (x == 0 or x == 9 or y == 0 or y == 9):\n",
    "            print(\"Bug!\")\n",
    "            \n",
    "        elif (array_input[y][x] ==\"C\" or array_input[y][x] == \"I\" ):\n",
    "            print(\"Bug!\")\n",
    "            \n",
    "    elif (c == \"L\"):\n",
    "        \n",
    "        dir += 1\n",
    "        dir %= 4\n",
    "        \n",
    "    elif (c == \"R\"):\n",
    "        \n",
    "        dir -= 1\n",
    "        if(dir < 0):\n",
    "            dir = 3\n",
    "            \n",
    "    elif (c == \"X\"):\n",
    "        \n",
    "        tempx = \"x\",\n",
    "        tempy = \"y\"\n",
    "        \n",
    "        if(dir == 0):\n",
    "            tempx += 1\n",
    "            \n",
    "        elif (dir == 1):\n",
    "            tempy -= 1\n",
    "            \n",
    "        elif (dir == 2):\n",
    "            tempx -= 1\n",
    "            \n",
    "        elif (dir == 3):\n",
    "            tempy += 1\n",
    "        \n",
    "        elif (tempx == 0 or tempx == 0 or tempy == 0 or tempy == 9):\n",
    "            print(\"Bug!\")\n",
    "            \n",
    "        elif(array_input[tempy][tempx] != \"I\"):\n",
    "            print(\"Bug!\")\n",
    "            \n",
    "        else:\n",
    "            array_input[tempy][tempx] = \".\"\n",
    "            \n",
    "if (array_input[y][x] == \"D\"):\n",
    "\n",
    "    print (\"Diamond!\")\n",
    "    \n",
    "else:\n",
    "\n",
    "    print(\"Bug!\")\n"
   ]
  },
  {
   "cell_type": "code",
   "execution_count": null,
   "id": "ff37153b",
   "metadata": {},
   "outputs": [],
   "source": []
  }
 ],
 "metadata": {
  "kernelspec": {
   "display_name": "csc591",
   "language": "python",
   "name": "csc591"
  },
  "language_info": {
   "codemirror_mode": {
    "name": "ipython",
    "version": 3
   },
   "file_extension": ".py",
   "mimetype": "text/x-python",
   "name": "python",
   "nbconvert_exporter": "python",
   "pygments_lexer": "ipython3",
   "version": "3.7.9"
  }
 },
 "nbformat": 4,
 "nbformat_minor": 5
}
