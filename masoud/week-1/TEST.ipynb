{
 "cells": [
  {
   "cell_type": "code",
   "execution_count": 1,
   "id": "9ffa2002",
   "metadata": {},
   "outputs": [
    {
     "name": "stdout",
     "output_type": "stream",
     "text": [
      "T\n"
     ]
    },
    {
     "data": {
      "text/plain": [
       "str"
      ]
     },
     "execution_count": 1,
     "metadata": {},
     "output_type": "execute_result"
    }
   ],
   "source": [
    "elem = input()\n",
    "type(elem)"
   ]
  },
  {
   "cell_type": "code",
   "execution_count": 2,
   "id": "e1e1874f",
   "metadata": {},
   "outputs": [
    {
     "name": "stdout",
     "output_type": "stream",
     "text": [
      "2\n",
      "123\n",
      "456\n",
      "[[123], [456]]\n"
     ]
    }
   ],
   "source": [
    "size = int(input()) \n",
    "array_input = []\n",
    "for x in range(size):\n",
    "    array_input.append([int(y) for y in input().split()])\n",
    "print(array_input)"
   ]
  },
  {
   "cell_type": "code",
   "execution_count": null,
   "id": "0d99ad7e",
   "metadata": {},
   "outputs": [],
   "source": []
  }
 ],
 "metadata": {
  "kernelspec": {
   "display_name": "csc591",
   "language": "python",
   "name": "csc591"
  },
  "language_info": {
   "codemirror_mode": {
    "name": "ipython",
    "version": 3
   },
   "file_extension": ".py",
   "mimetype": "text/x-python",
   "name": "python",
   "nbconvert_exporter": "python",
   "pygments_lexer": "ipython3",
   "version": "3.7.9"
  }
 },
 "nbformat": 4,
 "nbformat_minor": 5
}
